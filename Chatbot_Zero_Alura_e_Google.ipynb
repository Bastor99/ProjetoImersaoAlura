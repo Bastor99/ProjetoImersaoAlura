{
  "cells": [
    {
      "cell_type": "markdown",
      "metadata": {
        "id": "view-in-github",
        "colab_type": "text"
      },
      "source": [
        "<a href=\"https://colab.research.google.com/github/Bastor99/ProjetoImersaoAlura/blob/main/Chatbot_Zero_Alura_e_Google.ipynb\" target=\"_parent\"><img src=\"https://colab.research.google.com/assets/colab-badge.svg\" alt=\"Open In Colab\"/></a>"
      ]
    },
    {
      "cell_type": "markdown",
      "source": [
        "# **ChatBot voltado ao mundo dos games!**\n",
        "\n",
        "---\n",
        "\n",
        "🐕Conheça Zero, o chatbot desenvolvido especialmente para os amantes de jogos! Nascido da parceria entre a Imersão IA da Alura e o Google, o Zero é a sua inteligência artificial pessoal pronta para te acompanhar em todas as suas aventuras virtuais.🐕"
      ],
      "metadata": {
        "id": "U-IYY53FukDt"
      }
    },
    {
      "cell_type": "markdown",
      "source": [
        "**Instalação do SDK**"
      ],
      "metadata": {
        "id": "zyyVJ_xPpbwT"
      }
    },
    {
      "cell_type": "code",
      "execution_count": null,
      "metadata": {
        "id": "u6C2AUCrKV93"
      },
      "outputs": [],
      "source": [
        "# @Instalação do SDK\n",
        "!pip install -q -U google-generativeai\n",
        "\n",
        "import google.generativeai as genai\n",
        "\n",
        "\n",
        "GOOGLE_API_KEY=\"SUA_API_KEY\"\n",
        "genai.configure(api_key=GOOGLE_API_KEY)"
      ]
    },
    {
      "cell_type": "code",
      "execution_count": null,
      "metadata": {
        "id": "6dr057_gK9yC"
      },
      "outputs": [],
      "source": [
        "# @title Configurações\n",
        "#Configurações de geração de respostas\n",
        "generation_config = {\n",
        "  \"candidate_count\": 1, #Apenas uma resposta\n",
        "  \"temperature\": 0.8, #Temperatura de 0.8; gera respostas mais únicas e criativas\n",
        "}\n",
        "\n",
        "# Configurações de segurança\n",
        "safety_settings={\n",
        "    'HATE': 'BLOCK_ONLY_HIGH', #Bloqueia apenas discursos de ódio com alta probabilidade de não serem seguros\n",
        "    'HARASSMENT': 'BLOCK_ONLY_HIGH', #Bloqueia comentários negativos ou nocivos voltados à identidade e/ou atributos protegidos com alta probabilidade de não serem seguros\n",
        "    'SEXUAL' : 'BLOCK_ONLY_HIGH', #Bloqueia comentários que contém referências a atos sexuais ou outro conteúdo sexual, apenas quando houver alta probalidade de não ser seguro\n",
        "    'DANGEROUS' : 'BLOCK_LOW_AND_ABOVE'#Bloqueia comentários que promovem, facilitam ou incentivam atos nocivos.\n",
        "    }"
      ]
    },
    {
      "cell_type": "code",
      "execution_count": null,
      "metadata": {
        "id": "KOMuNRdVLX1P"
      },
      "outputs": [],
      "source": [
        "# @title Criação do modelo\n",
        "model = genai.GenerativeModel(model_name='gemini-1.5-pro-latest',\n",
        "                                  generation_config=generation_config,\n",
        "                                  safety_settings=safety_settings,\n",
        "                                  system_instruction=\"Aja como um jornalista de games. Seu nome é Zero. Você deve instigar o usuário para jogar games.\")"
      ]
    },
    {
      "cell_type": "code",
      "execution_count": null,
      "metadata": {
        "colab": {
          "background_save": true
        },
        "id": "H9S3mZDGL0jT"
      },
      "outputs": [],
      "source": [
        "# @title Chat\n",
        "import textwrap\n",
        "from IPython.display import display\n",
        "from IPython.display import Markdown\n",
        "\n",
        "def to_markdown(text):\n",
        "  text = text.replace('•', '  *')\n",
        "  return Markdown(textwrap.indent(text, '> ', predicate=lambda _: True))\n",
        "\n",
        "chat = model.start_chat(history=[])\n",
        "\n",
        "\n",
        "prompt = input('user: ')\n",
        "\n",
        "\n",
        "while prompt != \"fim\":\n",
        "  response = chat.send_message(prompt)\n",
        "  if chat.history:\n",
        "    last_message = chat.history[-1]\n",
        "    display(to_markdown(f'**ZERO**🐕: {last_message.parts[0].text}'))\n",
        "    print('---------------------------------------------')\n",
        "\n",
        "  prompt = input('user: ')"
      ]
    }
  ],
  "metadata": {
    "colab": {
      "provenance": [],
      "authorship_tag": "ABX9TyMpBW8lVWgDSq0gM78ecaec",
      "include_colab_link": true
    },
    "kernelspec": {
      "display_name": "Python 3",
      "name": "python3"
    },
    "language_info": {
      "name": "python"
    }
  },
  "nbformat": 4,
  "nbformat_minor": 0
}